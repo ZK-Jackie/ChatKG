{
 "cells": [
  {
   "cell_type": "code",
   "id": "initial_id",
   "metadata": {
    "collapsed": true,
    "ExecuteTime": {
     "end_time": "2024-10-05T11:40:56.980635Z",
     "start_time": "2024-10-05T11:40:56.968350Z"
    }
   },
   "source": [
    "import json\n",
    "\n",
    "from pydantic import BaseModel, Field\n",
    "\n",
    "class TestBase(BaseModel):\n",
    "    c: int = Field(description=\"c description\")\n",
    "\n",
    "class Test(BaseModel):\n",
    "    a: int = Field(description=\"a description\")\n",
    "    b: int = Field(description=\"b description\")\n",
    "    test_base: TestBase = Field(description=\"test_base description\")\n",
    "    test_bases: list[TestBase] = Field(description=\"test_bases description\")\n",
    "    \n",
    "test_subclass = TestBase(c=3)\n",
    "test_subclass2 = TestBase(c=4)\n",
    "test_subclass3 = TestBase(c=5)\n",
    "\n",
    "test = Test(a=1, b=2, test_base=test_subclass, test_bases=[test_subclass2, test_subclass3])"
   ],
   "outputs": [],
   "execution_count": 11
  },
  {
   "metadata": {
    "ExecuteTime": {
     "end_time": "2024-10-05T11:40:58.537933Z",
     "start_time": "2024-10-05T11:40:58.525794Z"
    }
   },
   "cell_type": "code",
   "source": [
    "json_dict = test.model_dump(mode=\"json\")\n",
    "json_dict"
   ],
   "id": "e20b804972c8ea99",
   "outputs": [
    {
     "data": {
      "text/plain": [
       "{'a': 1, 'b': 2, 'test_base': {'c': 3}, 'test_bases': [{'c': 4}, {'c': 5}]}"
      ]
     },
     "execution_count": 12,
     "metadata": {},
     "output_type": "execute_result"
    }
   ],
   "execution_count": 12
  },
  {
   "metadata": {
    "ExecuteTime": {
     "end_time": "2024-10-05T11:41:01.435216Z",
     "start_time": "2024-10-05T11:41:01.428809Z"
    }
   },
   "cell_type": "code",
   "source": [
    "json_str = json.dumps(json_dict)\n",
    "json_str"
   ],
   "id": "a308419fe6622df2",
   "outputs": [
    {
     "data": {
      "text/plain": [
       "'{\"a\": 1, \"b\": 2, \"test_base\": {\"c\": 3}, \"test_bases\": [{\"c\": 4}, {\"c\": 5}]}'"
      ]
     },
     "execution_count": 13,
     "metadata": {},
     "output_type": "execute_result"
    }
   ],
   "execution_count": 13
  },
  {
   "metadata": {
    "ExecuteTime": {
     "end_time": "2024-10-05T11:41:31.192737Z",
     "start_time": "2024-10-05T11:41:31.179912Z"
    }
   },
   "cell_type": "code",
   "source": [
    "read_dict = json.loads(json_str)\n",
    "test_serialize = Test(**read_dict)\n",
    "test_serialize"
   ],
   "id": "8cbf602b026d9d54",
   "outputs": [
    {
     "data": {
      "text/plain": [
       "Test(a=1, b=2, test_base=TestBase(c=3), test_bases=[TestBase(c=4), TestBase(c=5)])"
      ]
     },
     "execution_count": 15,
     "metadata": {},
     "output_type": "execute_result"
    }
   ],
   "execution_count": 15
  }
 ],
 "metadata": {
  "kernelspec": {
   "display_name": "Python 3",
   "language": "python",
   "name": "python3"
  },
  "language_info": {
   "codemirror_mode": {
    "name": "ipython",
    "version": 2
   },
   "file_extension": ".py",
   "mimetype": "text/x-python",
   "name": "python",
   "nbconvert_exporter": "python",
   "pygments_lexer": "ipython2",
   "version": "2.7.6"
  }
 },
 "nbformat": 4,
 "nbformat_minor": 5
}
