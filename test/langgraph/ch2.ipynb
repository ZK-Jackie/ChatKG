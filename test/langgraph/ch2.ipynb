{
 "cells": [
  {
   "metadata": {},
   "cell_type": "markdown",
   "source": [
    "# LangGraph 体验\n",
    "\n",
    "### Chapter 2: LangGraph 高级特性"
   ],
   "id": "922cdbf854053da7"
  },
  {
   "metadata": {},
   "cell_type": "code",
   "outputs": [],
   "execution_count": null,
   "source": [
    "from dotenv import load_dotenv\n",
    "import os\n",
    "load_dotenv()\n",
    "\n",
    "LLM_NAME = os.getenv(\"ZHIPU_LLM_NAME\") or None\n",
    "API_BASE = os.getenv(\"ZHIPU_API_BASE\") or None\n",
    "API_KEY = os.getenv(\"ZHIPU_API_KEY\") or None"
   ],
   "id": "58dfd0ee59f4a222"
  },
  {
   "metadata": {},
   "cell_type": "markdown",
   "source": [
    "### 1. 中断\n",
    "\n",
    "在 LangGraph 中，我们可以在工作流中设置“断点”，则执行到某一步时，数据流会停止，直至我们再次启动。这样的设计可以很方便地帮助我们控制 AI 的执行走向。\n",
    "\n",
    "先让我们复制上一章的代码，逐步改造这个简单的 Agent 吧！"
   ],
   "id": "5e23a2d177122081"
  },
  {
   "metadata": {},
   "cell_type": "code",
   "source": [
    "from typing import Annotated\n",
    "\n",
    "from langchain_openai import ChatOpenAI\n",
    "from langchain_community.utilities import DuckDuckGoSearchAPIWrapper\n",
    "from langchain_community.tools import DuckDuckGoSearchRun\n",
    "from typing_extensions import TypedDict\n",
    "\n",
    "from langgraph.checkpoint.memory import MemorySaver\n",
    "from langgraph.graph import StateGraph\n",
    "from langgraph.graph.message import add_messages\n",
    "from langgraph.prebuilt import ToolNode, tools_condition\n",
    "\n",
    "\n",
    "class State(TypedDict):\n",
    "    messages: Annotated[list, add_messages]\n",
    "\n",
    "\n",
    "memory = MemorySaver()\n",
    "\n",
    "graph_builder = StateGraph(State)\n",
    "\n",
    "wrapper = DuckDuckGoSearchAPIWrapper(max_results=5)\n",
    "tool = DuckDuckGoSearchRun(api_wrapper=wrapper)\n",
    "tools = [tool]\n",
    "llm = ChatOpenAI(model=LLM_NAME, openai_api_key=API_KEY, openai_api_base=API_BASE)\n",
    "llm_with_tools = llm.bind_tools(tools)\n",
    "\n",
    "\n",
    "def chatbot(state: State):\n",
    "    return {\"messages\": [llm_with_tools.invoke(state[\"messages\"])]}\n",
    "\n",
    "\n",
    "graph_builder.add_node(\"chatbot\", chatbot)\n",
    "\n",
    "tool_node = ToolNode(tools=[tool])\n",
    "graph_builder.add_node(\"tools\", tool_node)\n",
    "\n",
    "graph_builder.add_conditional_edges(\n",
    "    \"chatbot\",\n",
    "    tools_condition,\n",
    ")\n",
    "graph_builder.add_edge(\"tools\", \"chatbot\")\n",
    "graph_builder.set_entry_point(\"chatbot\")\n",
    "graph = graph_builder.compile(checkpointer=memory, interrupt_before=[\"tools\"])"
   ],
   "id": "727e5e3361257ec0",
   "outputs": [],
   "execution_count": null
  },
  {
   "metadata": {},
   "cell_type": "markdown",
   "source": [
    "这段代码绝大部分都与上一章的代码完全一致，但在最后一句上有些出入，多了一句 `interrupt_before=[\"tools\"]`。这句话的意思是，在执行到 `tools` 这个节点之前，会发生中断，工作流会停止下来。（对应的，我们也可以设定 `interrupt_after`）\n",
    "\n",
    "值得注意的是，LangGraph 中都会以你自己最初设定的环节的名字作为后续工作的代称。\n",
    "\n",
    "现在再次让我们向构造的 Agent 发问，看看会发生什么！"
   ],
   "id": "9b19f9fb3ad2ff3e"
  },
  {
   "metadata": {},
   "cell_type": "code",
   "source": [
    "user_input = \"I'm learning LangGraph. Could you do some research on it for me?\"\n",
    "config = {\"configurable\": {\"thread_id\": \"1\"}}\n",
    "# The config is the **second positional argument** to stream() or invoke()!\n",
    "events = graph.stream(\n",
    "    {\"messages\": [(\"user\", user_input)]}, config, stream_mode=\"values\"\n",
    ")\n",
    "for event in events:\n",
    "    if \"messages\" in event:\n",
    "        event[\"messages\"][-1].pretty_print()"
   ],
   "id": "bc6defd66e9b418e",
   "outputs": [],
   "execution_count": null
  },
  {
   "metadata": {},
   "cell_type": "markdown",
   "source": [
    "通过运行上述代码，我们会发现，对于添加了断点的 Agent，用户输入了一句话后，从输出结果中存储的消息记录可看出，整个 Agent 的工作流停留在了 AI 欲调用 Agent 之后，正式调用工具之前。\n",
    "\n",
    "前文也提到，“状态”是一直跟随着工作流的，所以我们当然可以在工作流中通过 `graph.get_state(config)` 来获取当前的状态。如下文。"
   ],
   "id": "246983c7e1ce7662"
  },
  {
   "metadata": {},
   "cell_type": "code",
   "source": [
    "snapshot = graph.get_state(config)\n",
    "print(f\"next node: {snapshot.next}\")\n",
    "existing_message = snapshot.values[\"messages\"][-1]\n",
    "existing_message.pretty_print()"
   ],
   "id": "eff3d717e964fe2",
   "outputs": [],
   "execution_count": null
  },
  {
   "metadata": {},
   "cell_type": "markdown",
   "source": "我们可以看到，状态中的 `messages` 最后一条记录就是工具调用，即还未来得及发出的工具请求。",
   "id": "6e0fa0590c5ef8eb"
  },
  {
   "metadata": {},
   "cell_type": "markdown",
   "source": [
    "### 2. 状态添加 / 工作流变更\n",
    "\n",
    "既然能从工作流中获取到状态、打印状态，那么自然也能够修改状态！\n",
    "\n",
    "在 LangGraph 中，我们能够任意地修改数据流中的状态，以便于实现更多高度定制化的操作。在下文，我们将尝试“造假”工具请求的结果和 LLM 的回复。"
   ],
   "id": "5282946d7684d078"
  },
  {
   "metadata": {},
   "cell_type": "code",
   "source": [
    "from langchain_core.messages import AIMessage, ToolMessage\n",
    "\n",
    "answer = (\n",
    "    \"LangGraph is a library for building stateful, multi-actor applications with LLMs.\"\n",
    ")\n",
    "new_messages = [\n",
    "    # The LLM API expects some ToolMessage to match its tool call. We'll satisfy that here.\n",
    "    ToolMessage(content=answer, tool_call_id=existing_message.tool_calls[0][\"id\"]),\n",
    "    # And then directly \"put words in the LLM's mouth\" by populating its response.\n",
    "    AIMessage(content=answer),\n",
    "]\n",
    "\n",
    "new_messages[-1].pretty_print()\n",
    "graph.update_state(\n",
    "    # Which state to update\n",
    "    config,\n",
    "    # The updated values to provide. The messages in our `State` are \"append-only\", meaning this will be appended\n",
    "    # to the existing state. We will review how to update existing messages in the next section!\n",
    "    {\"messages\": new_messages},\n",
    ")\n",
    "\n",
    "print(\"\\n\\nLast 2 messages;\")\n",
    "print(graph.get_state(config).values[\"messages\"][-2:])"
   ],
   "id": "95e43ef031ca53b8",
   "outputs": [],
   "execution_count": null
  },
  {
   "metadata": {},
   "cell_type": "markdown",
   "source": [
    "上文的“造假”过程直接是用的死数据，这个数据来源当然是可以来源于外界，例如用户、一个YOLO、AC自动机或专门用于系统整体监督的另一个 Agent。\n",
    "\n",
    "上文的“造假”过程一次性造假了工具的请求回复信息和 LLM 的回答，而我们也知道，LLM 的回答即代表 `__end__`，即工作流的结束。我们可以在此时再次查看 LangGraph 当前内部的状态情况，如下文。"
   ],
   "id": "ff1fb45de277f809"
  },
  {
   "metadata": {},
   "cell_type": "code",
   "source": [
    "snapshot = graph.get_state(config)\n",
    "print(snapshot.values[\"messages\"][-3:])\n",
    "print(snapshot.next)"
   ],
   "id": "7f6b028d8dd1df66",
   "outputs": [],
   "execution_count": null
  },
  {
   "metadata": {},
   "cell_type": "markdown",
   "source": [
    "这样的输出记录的改变会影响工作流的改变，而这些改变都可以被 LangGraph 感知。\n",
    "\n",
    "从上面的输出也可看出，`snapshot.next`的输出为空（他下一步没有要做的事情了！），所以我们可以通过这种方式，借助外部因素控制工作流的走向。"
   ],
   "id": "58df96b9ecc68cc6"
  },
  {
   "metadata": {},
   "cell_type": "markdown",
   "source": [
    "### 3. 状态更新 / 内容更正\n",
    "\n",
    "假定当前有一个需求，我们需要对消息记录中的某条信息进行修正，例如调用工具时输入的参数、工具的结果返回等等。LangGraph 也提供了这样的功能，我们可以通过 `graph.update_state` 来实现这一需求。\n",
    "\n",
    "如下文，我们先重新启用一次对话吧！"
   ],
   "id": "84132ffba5353a75"
  },
  {
   "metadata": {},
   "cell_type": "code",
   "source": [
    "user_input = \"I'm learning LangGraph. Could you do some web research on it for me?\"\n",
    "config = {\"configurable\": {\"thread_id\": \"2\"}}  # 重新开始一个 id 为 2 的对话\n",
    "events = graph.stream(\n",
    "    {\"messages\": [(\"user\", user_input)]}, config, stream_mode=\"values\"\n",
    ")\n",
    "for event in events:\n",
    "    if \"messages\" in event:\n",
    "        event[\"messages\"][-1].pretty_print()"
   ],
   "id": "e84ff27cc0d566e2",
   "outputs": [],
   "execution_count": null
  },
  {
   "metadata": {},
   "cell_type": "markdown",
   "source": "依照前面制定的 graph，这个对话会在调用工具之前中断。我们可以通过 `graph.get_state(config)` 来查看当前的状态。",
   "id": "b8abaccd72a492bc"
  },
  {
   "metadata": {},
   "cell_type": "code",
   "source": [
    "snapshot = graph.get_state(config)\n",
    "existing_message = snapshot.values[\"messages\"][-1]\n",
    "print(\"Original\")\n",
    "print(\"Message ID\", existing_message.id)\n",
    "print(existing_message.tool_calls[0])"
   ],
   "id": "ba18b56d478548e9",
   "outputs": [],
   "execution_count": null
  },
  {
   "metadata": {},
   "cell_type": "markdown",
   "source": [
    "我们可以观察到，LLM 再次卡在了正式调用工具前，当前只提供了调用工具要用到的输入参数，而没有真正执行工具调用的过程。\n",
    "\n",
    "则此时我们可以插手，修改 LLM 调用工具打算输入的参数。如下文。"
   ],
   "id": "68dc9213e4feaa5e"
  },
  {
   "metadata": {},
   "cell_type": "code",
   "source": [
    "from langchain_core.messages import AIMessage\n",
    "\n",
    "new_tool_call = existing_message.tool_calls[0].copy()\n",
    "new_tool_call[\"args\"][\"query\"] = \"LangGraph human-in-the-loop workflow\"\n",
    "new_message = AIMessage(\n",
    "    content=existing_message.content,\n",
    "    tool_calls=[new_tool_call],\n",
    "    # Important! The ID is how LangGraph knows to REPLACE the message in the state rather than APPEND this messages\n",
    "    id=existing_message.id,\n",
    ")\n",
    "\n",
    "print(\"Updated\")\n",
    "print(new_message.tool_calls[0])\n",
    "print(\"Message ID\", new_message.id)\n",
    "graph.update_state(config, {\"messages\": [new_message]})\n",
    "\n",
    "print(\"\\n\\nTool calls\")\n",
    "graph.get_state(config).values[\"messages\"][-1].tool_calls"
   ],
   "id": "da0182e0c56c9608",
   "outputs": [],
   "execution_count": null
  },
  {
   "metadata": {},
   "cell_type": "markdown",
   "source": [
    "需要注意的是，要修改掉原有的记录，我们构建的新信息的 id 必须和原信息完全一致，此时再次查看状态，我们会发现，原有的信息已经被新信息替代了。\n",
    "\n",
    "此时我们再次调用 stream 或 invoke 方法，第一个参数不再提供任何内容，则工作流会继续执行，直至结束。如下文。"
   ],
   "id": "fdc71d8daad16c6d"
  },
  {
   "metadata": {},
   "cell_type": "code",
   "source": [
    "events = graph.stream(None, config, stream_mode=\"values\")\n",
    "for event in events:\n",
    "    if \"messages\" in event:\n",
    "        event[\"messages\"][-1].pretty_print()"
   ],
   "id": "e432cebc4c2ef232",
   "outputs": [],
   "execution_count": null
  },
  {
   "metadata": {},
   "cell_type": "markdown",
   "source": "带上我们的用户对话标识 config，检查对话上下文是否被正确保存，如下文。",
   "id": "523d3662b00462d7"
  },
  {
   "metadata": {},
   "cell_type": "code",
   "source": [
    "events = graph.stream(\n",
    "    {\n",
    "        \"messages\": (\n",
    "            \"user\",\n",
    "            \"Remember what I'm learning about?\",\n",
    "        )\n",
    "    },\n",
    "    config,\n",
    "    stream_mode=\"values\",\n",
    ")\n",
    "for event in events:\n",
    "    if \"messages\" in event:\n",
    "        event[\"messages\"][-1].pretty_print()"
   ],
   "id": "cabd2d7cd18b59b0",
   "outputs": [],
   "execution_count": null
  },
  {
   "metadata": {},
   "cell_type": "markdown",
   "source": "LLM 记住了历史对话并正确总结回答了！",
   "id": "cee927497ec0c658"
  }
 ],
 "metadata": {
  "kernelspec": {
   "display_name": "Python 3",
   "language": "python",
   "name": "python3"
  },
  "language_info": {
   "codemirror_mode": {
    "name": "ipython",
    "version": 2
   },
   "file_extension": ".py",
   "mimetype": "text/x-python",
   "name": "python",
   "nbconvert_exporter": "python",
   "pygments_lexer": "ipython2",
   "version": "2.7.6"
  }
 },
 "nbformat": 4,
 "nbformat_minor": 5
}
